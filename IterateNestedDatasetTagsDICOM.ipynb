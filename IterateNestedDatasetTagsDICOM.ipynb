{
 "cells": [
  {
   "cell_type": "code",
   "execution_count": 1,
   "id": "5fd9f956-31bd-475b-9716-1a3402894b6c",
   "metadata": {},
   "outputs": [],
   "source": [
    "import os\n",
    "import pydicom"
   ]
  },
  {
   "cell_type": "markdown",
   "id": "a3aecef9-7138-41d6-b1fc-0fb11fd2a574",
   "metadata": {},
   "source": [
    "## Load the dicom file"
   ]
  },
  {
   "cell_type": "code",
   "execution_count": 2,
   "id": "985d57b2-3170-4094-a1bf-90355c380450",
   "metadata": {},
   "outputs": [],
   "source": [
    "data = pydicom.dcmread(\"slice0.dcm\")"
   ]
  },
  {
   "cell_type": "markdown",
   "id": "f05b7e23-770b-4799-9575-ebc53da10c77",
   "metadata": {},
   "source": [
    "## Define function to print all DataElements (tags) of the dataset (including the one nested in sequences)"
   ]
  },
  {
   "cell_type": "code",
   "execution_count": 3,
   "id": "22ecdd1f-91ae-4b76-a24b-395b190d369e",
   "metadata": {},
   "outputs": [],
   "source": [
    "def print_callback(dataset: \"Dataset\", elem: pydicom.DataElement) -> None:\n",
    "    \"\"\"Method to use as callback to walk() method.\"\"\"\n",
    "    print(dataset[elem.tag])\n",
    "    if elem.tag.is_private:\n",
    "        print('Is private')\n",
    "\n",
    "def print_tags(dataset) -> None:\n",
    "    \"\"\"Print all elements from the Dataset.\"\"\"\n",
    "    dataset.walk(print_callback)"
   ]
  },
  {
   "cell_type": "markdown",
   "id": "c6001881-0ee7-41b7-acb5-2e9d8879a025",
   "metadata": {},
   "source": [
    "## Print the initial tags of the dicom file"
   ]
  },
  {
   "cell_type": "code",
   "execution_count": 4,
   "id": "b2a93e9a-5f5d-47b9-8c04-0582080f8c92",
   "metadata": {},
   "outputs": [
    {
     "name": "stdout",
     "output_type": "stream",
     "text": [
      "(0008, 0008) Image Type                          CS: ['ORIGINAL', 'PRIMARY', 'AXIAL']\n",
      "(0008, 0016) SOP Class UID                       UI: MR Image Storage\n",
      "(0008, 0018) SOP Instance UID                    UI: 1.2.826.0.1.3680043.8.498.11647531947692001889139142101174006376\n",
      "(0008, 0020) Study Date                          DA: '20231016'\n",
      "(0008, 0060) Modality                            CS: 'MR'\n",
      "(0008, 103e) Series Description                  LO: 'pacsman_testing_dicom'\n",
      "(0010, 0010) Patient's Name                      PN: 'PACSMAN'\n",
      "(0010, 0020) Patient ID                          LO: 'PACSMAN1'\n",
      "(0010, 0026) Source Patient Group Identification SQ: <Sequence, length 1>\n",
      "(0010, 0020) Patient ID                          LO: 'PACSMAN1'\n",
      "(0020, 000d) Study Instance UID                  UI: 1.2.826.0.1.3680043.8.498.53705520178064824913661855181940860223\n",
      "(0020, 000e) Series Instance UID                 UI: 1.2.826.0.1.3680043.8.498.51477978481347690572891822947821352950\n",
      "(0020, 0013) Instance Number                     IS: '0'\n",
      "(0020, 0020) Patient Orientation                 CS: ['L', 'R']\n",
      "(0020, 0032) Image Position (Patient)            DS: [-63, 0, 0]\n",
      "(0020, 0037) Image Orientation (Patient)         DS: [0, -1, 0, 1, 0, 0]\n",
      "(0020, 0052) Frame of Reference UID              UI: 1.2.826.0.1.3680043.8.498.32523184382020805121204673433959853554\n",
      "(0028, 0002) Samples per Pixel                   US: 1\n",
      "(0028, 0004) Photometric Interpretation          CS: 'MONOCHROME2'\n",
      "(0028, 0010) Rows                                US: 128\n",
      "(0028, 0011) Columns                             US: 128\n",
      "(0028, 0030) Pixel Spacing                       DS: [1, 1]\n",
      "(0028, 0100) Bits Allocated                      US: 16\n",
      "(0028, 0101) Bits Stored                         US: 16\n",
      "(0028, 0102) High Bit                            US: 15\n",
      "(0028, 0103) Pixel Representation                US: 1\n",
      "(0028, 1052) Rescale Intercept                   DS: '0.0'\n",
      "(0028, 1053) Rescale Slope                       DS: '1.0'\n",
      "(7fe0, 0010) Pixel Data                          OW: Array of 32768 elements\n"
     ]
    }
   ],
   "source": [
    "print_tags(data)"
   ]
  },
  {
   "cell_type": "markdown",
   "id": "40ef8633-1e14-434d-a5de-97d5267e5f14",
   "metadata": {},
   "source": [
    "## Define functions to recurse throught through all tags and replace a string if necessary (anonymization)"
   ]
  },
  {
   "cell_type": "code",
   "execution_count": 5,
   "id": "ae07822a-ad00-42d6-bc4e-4fbe07e6a872",
   "metadata": {},
   "outputs": [],
   "source": [
    "def replace_str_in_number(elem_value, initial_str, new_str):\n",
    "    \"\"\"Function to replace a string in a number.\n",
    "\n",
    "    Args:\n",
    "        elem_value : Data element value in which to replace the string\n",
    "        initial_str : Initial string to be replaced\n",
    "        new_str : New string to replace the initial string\n",
    "\n",
    "    Returns:\n",
    "        number: Number with the replaced string\n",
    "    \"\"\"\n",
    "    # Save the type of the element value\n",
    "    elem_value_type = type(elem_value)\n",
    "    # Convert the element value to a string\n",
    "    elem_value_str = str(elem_value)\n",
    "    # Replace the initial string with the new string and convert back\n",
    "    # to the original type\n",
    "    return elem_value_type(elem_value_str.replace(initial_str, new_str))\n",
    "\n",
    "\n",
    "def anonymize_tag_recurse(ds: pydicom.Dataset, initial_str, new_str):\n",
    "    \"\"\"Function to anonymize / replace first level and nested tags in a pydicom Dataset recursively.\n",
    "\n",
    "    It handles the cases where the value of the data element is one of the following:\n",
    "    a single string value, a number, a list or tuple with all strings or all numbers,\n",
    "    or a multi-value string with backslash separator.\n",
    "\n",
    "    Args:\n",
    "        ds : pydicom Dataset to anonymize\n",
    "        initial_str : Initial string to be replaced\n",
    "        new_str : New string to replace the initial string\n",
    "\n",
    "    Returns:\n",
    "        ds : Pydicom Dataset with the replaced tag values\n",
    "    \"\"\"\n",
    "    for elem in ds:\n",
    "        if elem.VR == \"SQ\":\n",
    "            [anonymize_tag_recurse(item, initial_str, new_str) for item in elem.value]\n",
    "        else:\n",
    "            if isinstance(elem.value, str):\n",
    "                if \"\\\\\" in elem.value:\n",
    "                    elem.value = \"\\\\\".join(\n",
    "                        [\n",
    "                            value.replace(initial_str, new_str)\n",
    "                            for value in elem.value.split(\"\\\\\")\n",
    "                        ]\n",
    "                    )\n",
    "                else:\n",
    "                    elem.value = elem.value.replace(initial_str, new_str)\n",
    "            elif isinstance(elem.value, int) or isinstance(elem.value, float):\n",
    "                if initial_str.isnumeric():\n",
    "                    elem.value = replace_str_in_number(elem.value, initial_str, new_str)\n",
    "            elif isinstance(elem.value, list) or isinstance(elem.value, tuple):\n",
    "                for i, value in enumerate(elem.value):\n",
    "                    if isinstance(value, str):\n",
    "                        elem.value[i] = value.replace(initial_str, new_str)\n",
    "                    elif isinstance(elem.value, int) or isinstance(elem.value, float):\n",
    "                        if initial_str.isnumeric():\n",
    "                            elem.value = replace_str_in_number(\n",
    "                                elem.value, initial_str, new_str\n",
    "                            )\n",
    "    return ds"
   ]
  },
  {
   "cell_type": "markdown",
   "id": "71869c75-9ad0-4539-b3ae-c61d83e84df8",
   "metadata": {},
   "source": [
    "## Apply the function and print the new tags of the modified dicom dataset"
   ]
  },
  {
   "cell_type": "code",
   "execution_count": 6,
   "id": "9aae2574-ac56-4a1f-960a-e2db52074b56",
   "metadata": {},
   "outputs": [
    {
     "name": "stdout",
     "output_type": "stream",
     "text": [
      "(0008, 0008) Image Type                          CS: ['ORIGINAL', 'PRIMARY', 'AXIAL']\n",
      "(0008, 0016) SOP Class UID                       UI: MR Image Storage\n",
      "(0008, 0018) SOP Instance UID                    UI: 1.2.826.0.1.3680043.8.498.11647531947692001889139142101174006376\n",
      "(0008, 0020) Study Date                          DA: '20231016'\n",
      "(0008, 0060) Modality                            CS: 'MR'\n",
      "(0008, 103e) Series Description                  LO: 'pacsman_testing_dicom'\n",
      "(0010, 0010) Patient's Name                      PN: 'PACSMAN'\n",
      "(0010, 0020) Patient ID                          LO: 'PACSMAN2'\n",
      "(0010, 0026) Source Patient Group Identification SQ: <Sequence, length 1>\n",
      "(0010, 0020) Patient ID                          LO: 'PACSMAN2'\n",
      "(0020, 000d) Study Instance UID                  UI: 1.2.826.0.1.3680043.8.498.53705520178064824913661855181940860223\n",
      "(0020, 000e) Series Instance UID                 UI: 1.2.826.0.1.3680043.8.498.51477978481347690572891822947821352950\n",
      "(0020, 0013) Instance Number                     IS: '0'\n",
      "(0020, 0020) Patient Orientation                 CS: ['L', 'R']\n",
      "(0020, 0032) Image Position (Patient)            DS: [-63, 0, 0]\n",
      "(0020, 0037) Image Orientation (Patient)         DS: [0, -1, 0, 1, 0, 0]\n",
      "(0020, 0052) Frame of Reference UID              UI: 1.2.826.0.1.3680043.8.498.32523184382020805121204673433959853554\n",
      "(0028, 0002) Samples per Pixel                   US: 1\n",
      "(0028, 0004) Photometric Interpretation          CS: 'MONOCHROME2'\n",
      "(0028, 0010) Rows                                US: 128\n",
      "(0028, 0011) Columns                             US: 128\n",
      "(0028, 0030) Pixel Spacing                       DS: [1, 1]\n",
      "(0028, 0100) Bits Allocated                      US: 16\n",
      "(0028, 0101) Bits Stored                         US: 16\n",
      "(0028, 0102) High Bit                            US: 15\n",
      "(0028, 0103) Pixel Representation                US: 1\n",
      "(0028, 1052) Rescale Intercept                   DS: '0.0'\n",
      "(0028, 1053) Rescale Slope                       DS: '1.0'\n",
      "(7fe0, 0010) Pixel Data                          OW: Array of 32768 elements\n"
     ]
    }
   ],
   "source": [
    "data_anom = anonymize_tag_recurse(data, 'PACSMAN1', 'PACSMAN2')\n",
    "print_tags(data_anom)"
   ]
  },
  {
   "cell_type": "code",
   "execution_count": null,
   "id": "ecc2501c-56ec-4cde-abc1-04fd18528404",
   "metadata": {},
   "outputs": [],
   "source": []
  }
 ],
 "metadata": {
  "kernelspec": {
   "display_name": "Python 3 (ipykernel)",
   "language": "python",
   "name": "python3"
  },
  "language_info": {
   "codemirror_mode": {
    "name": "ipython",
    "version": 3
   },
   "file_extension": ".py",
   "mimetype": "text/x-python",
   "name": "python",
   "nbconvert_exporter": "python",
   "pygments_lexer": "ipython3",
   "version": "3.10.12"
  }
 },
 "nbformat": 4,
 "nbformat_minor": 5
}
